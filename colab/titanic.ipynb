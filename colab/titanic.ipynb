{
  "nbformat": 4,
  "nbformat_minor": 0,
  "metadata": {
    "colab": {
      "name": "titanic.ipynb",
      "provenance": []
    },
    "kernelspec": {
      "name": "python3",
      "display_name": "Python 3"
    },
    "language_info": {
      "name": "python"
    }
  },
  "cells": [
    {
      "cell_type": "markdown",
      "metadata": {
        "id": "0JPUdh2gUtb8"
      },
      "source": [
        "# Imports"
      ]
    },
    {
      "cell_type": "code",
      "metadata": {
        "id": "fzeQs_RXTxDy"
      },
      "source": [
        "import pandas as pd\n",
        "from sklearn import tree\n",
        "from sklearn.ensemble import RandomForestClassifier\n",
        "from sklearn.neural_network import MLPClassifier"
      ],
      "execution_count": 30,
      "outputs": []
    },
    {
      "cell_type": "markdown",
      "metadata": {
        "id": "Eds11B50Ur_U"
      },
      "source": [
        "# Import Data"
      ]
    },
    {
      "cell_type": "markdown",
      "metadata": {
        "id": "bg8huk9sqw-q"
      },
      "source": [
        "# Analysis Functions"
      ]
    },
    {
      "cell_type": "code",
      "metadata": {
        "id": "IvOOslWMr48y"
      },
      "source": [
        "def confusion_matrix(preds, truths):\n",
        "    tp = 0\n",
        "    fp = 0\n",
        "    fn = 0\n",
        "    tn = 0\n",
        "    for pred, truth in zip(preds, truths):\n",
        "        if truth == 1:\n",
        "            if pred == truth:\n",
        "                tp += 1\n",
        "            else:\n",
        "                fn += 1\n",
        "        else:\n",
        "            if pred == truth:\n",
        "                tn += 1\n",
        "            else:\n",
        "                fp += 1\n",
        "    return tp, fp, tn, fn"
      ],
      "execution_count": 51,
      "outputs": []
    },
    {
      "cell_type": "code",
      "metadata": {
        "id": "dm3547WNshkt"
      },
      "source": [
        "def get_precision(tp, fp):\n",
        "    return tp / (tp + fp)\n",
        "\n",
        "def get_recall(tp, fn):\n",
        "    return tp / (tp + fn)\n",
        "\n",
        "def get_accuracy(tp, fn, fp, tn):\n",
        "    return (tp + tn) / (tp + fp + fn + tn)\n",
        "\n",
        "def get_f1(tp, fp, fn):\n",
        "    prec = get_precision(tp, fp)\n",
        "    rec = get_recall(tp, fn)\n",
        "    return 2 * prec * rec / (prec + rec)"
      ],
      "execution_count": 14,
      "outputs": []
    },
    {
      "cell_type": "code",
      "metadata": {
        "id": "qnPWN8V3uyXy"
      },
      "source": [
        "def get_all_metrics(preds, truths):\n",
        "    tp, fp, tn, fn = confusion_matrix(preds, truths)\n",
        "    prec = get_precision(tp, fp)\n",
        "    rec = get_recall(tp, fn)\n",
        "    acc = get_accuracy(tp, fn, fp, tn)\n",
        "    f1 = get_f1(tp, fp, fn)\n",
        "    return prec, rec, acc, f1"
      ],
      "execution_count": 19,
      "outputs": []
    },
    {
      "cell_type": "markdown",
      "metadata": {
        "id": "ZFubX57Cp5u4"
      },
      "source": [
        "## Prepare Training Data"
      ]
    },
    {
      "cell_type": "code",
      "metadata": {
        "id": "6gqkjCW5UKC8"
      },
      "source": [
        "train_df = pd.read_csv('n_train.csv')\n",
        "\n",
        "# Get Labels\n",
        "train_labels = train_df['Survived']\n",
        "\n",
        "# Drop survived and passenger ID\n",
        "train_df = train_df.drop(columns=['Survived', 'PassengerID'])"
      ],
      "execution_count": 94,
      "outputs": []
    },
    {
      "cell_type": "code",
      "metadata": {
        "colab": {
          "base_uri": "https://localhost:8080/"
        },
        "id": "vVQCXnioAaay",
        "outputId": "1aef525c-2e30-4710-b719-9da0527c353b"
      },
      "source": [
        "print(train_df)"
      ],
      "execution_count": 95,
      "outputs": [
        {
          "output_type": "stream",
          "name": "stdout",
          "text": [
            "     Pclass  Sex   Age  SibSp  Parch      Fare\n",
            "0         3    0  22.0      1      0    7.2500\n",
            "1         1    1  38.0      1      0   71.2833\n",
            "2         3    1  26.0      0      0    7.9250\n",
            "3         1    1  35.0      1      0   53.1000\n",
            "4         3    0  35.0      0      0    8.0500\n",
            "..      ...  ...   ...    ...    ...       ...\n",
            "566       3    0  29.0      0      0    9.4833\n",
            "567       2    0  52.0      0      0   13.0000\n",
            "568       3    0  19.0      0      0    7.6500\n",
            "569       1    1  38.0      0      0  227.5250\n",
            "570       2    1  27.0      0      0   10.5000\n",
            "\n",
            "[571 rows x 6 columns]\n"
          ]
        }
      ]
    },
    {
      "cell_type": "markdown",
      "metadata": {
        "id": "dz0F6iSYqO7D"
      },
      "source": [
        "## Prepare Testing Data"
      ]
    },
    {
      "cell_type": "code",
      "metadata": {
        "id": "VzpjqpBlqSgW"
      },
      "source": [
        "test_df = pd.read_csv('n_test.csv')\n",
        "\n",
        "# Get Labels\n",
        "test_labels = test_df['Survived']\n",
        "\n",
        "# Drop survived and passenger ID\n",
        "test_df = test_df.drop(columns=['Survived', 'PassengerID'])"
      ],
      "execution_count": 97,
      "outputs": []
    },
    {
      "cell_type": "markdown",
      "metadata": {
        "id": "BDU2mA7WUlo3"
      },
      "source": [
        "# Decision Tree"
      ]
    },
    {
      "cell_type": "markdown",
      "metadata": {
        "id": "5IYka_gcqCWz"
      },
      "source": [
        "## Train"
      ]
    },
    {
      "cell_type": "code",
      "metadata": {
        "id": "TBaDgcNbVvTe"
      },
      "source": [
        "# Create and train decision tree\n",
        "decision_tree = tree.DecisionTreeClassifier(max_depth=5)\n",
        "decision_tree = decision_tree.fit(train_df, train_labels)"
      ],
      "execution_count": 122,
      "outputs": []
    },
    {
      "cell_type": "markdown",
      "metadata": {
        "id": "fq7GHhgZqDhc"
      },
      "source": [
        "## Test"
      ]
    },
    {
      "cell_type": "code",
      "metadata": {
        "id": "lsNfGRVzZAgm"
      },
      "source": [
        "decision_tree_preds = decision_tree.predict(test_df)"
      ],
      "execution_count": 123,
      "outputs": []
    },
    {
      "cell_type": "code",
      "metadata": {
        "colab": {
          "base_uri": "https://localhost:8080/"
        },
        "id": "4FDPJ6PbvG67",
        "outputId": "c0be71b1-daa0-48b3-8be9-20f1bad7a9ce"
      },
      "source": [
        "dec_prec, dec_rec, dec_acc, dec_f1 = get_all_metrics(decision_tree_preds, test_labels)\n",
        "print(dec_prec, dec_rec, dec_acc, dec_f1)"
      ],
      "execution_count": 124,
      "outputs": [
        {
          "output_type": "stream",
          "name": "stdout",
          "text": [
            "0.8103448275862069 0.8392857142857143 0.8601398601398601 0.8245614035087718\n"
          ]
        }
      ]
    },
    {
      "cell_type": "code",
      "metadata": {
        "colab": {
          "base_uri": "https://localhost:8080/",
          "height": 266
        },
        "id": "4vhYdvaK_0aQ",
        "outputId": "93f2baf4-720f-4891-8119-aa99a8fe5100"
      },
      "source": [
        "tree.plot_tree(decision_tree)\n",
        "import graphviz \n",
        "dot_data = tree.export_graphviz(decision_tree, out_file=None) \n",
        "graph = graphviz.Source(dot_data) \n",
        "graph.render(\"iris\")"
      ],
      "execution_count": 108,
      "outputs": [
        {
          "output_type": "execute_result",
          "data": {
            "application/vnd.google.colaboratory.intrinsic+json": {
              "type": "string"
            },
            "text/plain": [
              "'iris.pdf'"
            ]
          },
          "metadata": {},
          "execution_count": 108
        },
        {
          "output_type": "display_data",
          "data": {
            "image/png": "[encoded data removed]",
            "text/plain": [
              "<Figure size 432x288 with 1 Axes>"
            ]
          },
          "metadata": {
            "needs_background": "light"
          }
        }
      ]
    },
    {
      "cell_type": "markdown",
      "metadata": {
        "id": "TH2S1RBfUpiA"
      },
      "source": [
        "# Random Forest"
      ]
    },
    {
      "cell_type": "markdown",
      "metadata": {
        "id": "RWaF6skov1VD"
      },
      "source": [
        "## Train"
      ]
    },
    {
      "cell_type": "code",
      "metadata": {
        "colab": {
          "base_uri": "https://localhost:8080/"
        },
        "id": "PNzVjns2vuL3",
        "outputId": "10f213cb-5282-49a5-f6b7-00ffc539e22e"
      },
      "source": [
        "rand_forest = RandomForestClassifier(max_depth=9, random_state=0)\n",
        "rand_forest.fit(train_df, train_labels)"
      ],
      "execution_count": 149,
      "outputs": [
        {
          "output_type": "execute_result",
          "data": {
            "text/plain": [
              "RandomForestClassifier(bootstrap=True, ccp_alpha=0.0, class_weight=None,\n",
              "                       criterion='gini', max_depth=9, max_features='auto',\n",
              "                       max_leaf_nodes=None, max_samples=None,\n",
              "                       min_impurity_decrease=0.0, min_impurity_split=None,\n",
              "                       min_samples_leaf=1, min_samples_split=2,\n",
              "                       min_weight_fraction_leaf=0.0, n_estimators=100,\n",
              "                       n_jobs=None, oob_score=False, random_state=0, verbose=0,\n",
              "                       warm_start=False)"
            ]
          },
          "metadata": {},
          "execution_count": 149
        }
      ]
    },
    {
      "cell_type": "markdown",
      "metadata": {
        "id": "hMdleQNyv2nC"
      },
      "source": [
        "## Test"
      ]
    },
    {
      "cell_type": "code",
      "metadata": {
        "id": "OElIldPWv32Q"
      },
      "source": [
        "rand_forest_preds = rand_forest.predict(test_df)"
      ],
      "execution_count": 150,
      "outputs": []
    },
    {
      "cell_type": "code",
      "metadata": {
        "colab": {
          "base_uri": "https://localhost:8080/"
        },
        "id": "ufVjN-LqysmE",
        "outputId": "934c0828-0c0e-43c3-a9e1-0ae596b6369b"
      },
      "source": [
        "rf_prec, rf_rec, rf_acc, rf_f1 = get_all_metrics(rand_forest_preds, test_labels)\n",
        "print(rf_prec, rf_rec, rf_acc, rf_f1)"
      ],
      "execution_count": 151,
      "outputs": [
        {
          "output_type": "stream",
          "name": "stdout",
          "text": [
            "0.8392857142857143 0.8392857142857143 0.8741258741258742 0.8392857142857143\n"
          ]
        }
      ]
    },
    {
      "cell_type": "markdown",
      "metadata": {
        "id": "4eLjssJdzRnh"
      },
      "source": [
        "# Neural Network"
      ]
    },
    {
      "cell_type": "markdown",
      "metadata": {
        "id": "K5V_GFTMzUvq"
      },
      "source": [
        "## Train"
      ]
    },
    {
      "cell_type": "code",
      "metadata": {
        "colab": {
          "base_uri": "https://localhost:8080/"
        },
        "id": "_0tNFw3TzTkX",
        "outputId": "59cb9970-fc1e-4f9e-c631-661087a84713"
      },
      "source": [
        "neural_net = MLPClassifier(random_state=1, max_iter=500)\n",
        "neural_net.fit(train_df, train_labels)"
      ],
      "execution_count": 172,
      "outputs": [
        {
          "output_type": "execute_result",
          "data": {
            "text/plain": [
              "MLPClassifier(activation='relu', alpha=0.0001, batch_size='auto', beta_1=0.9,\n",
              "              beta_2=0.999, early_stopping=False, epsilon=1e-08,\n",
              "              hidden_layer_sizes=(100,), learning_rate='constant',\n",
              "              learning_rate_init=0.001, max_fun=15000, max_iter=500,\n",
              "              momentum=0.9, n_iter_no_change=10, nesterovs_momentum=True,\n",
              "              power_t=0.5, random_state=1, shuffle=True, solver='adam',\n",
              "              tol=0.0001, validation_fraction=0.1, verbose=False,\n",
              "              warm_start=False)"
            ]
          },
          "metadata": {},
          "execution_count": 172
        }
      ]
    },
    {
      "cell_type": "markdown",
      "metadata": {
        "id": "tWQR-9e-zVzk"
      },
      "source": [
        "## Test"
      ]
    },
    {
      "cell_type": "code",
      "metadata": {
        "colab": {
          "base_uri": "https://localhost:8080/"
        },
        "id": "rq28ILIvzm0t",
        "outputId": "5299eb6c-11c1-46ec-bdda-2792d60daa39"
      },
      "source": [
        "neural_net_preds = neural_net.predict(test_df)\n",
        "print(neural_net_preds)"
      ],
      "execution_count": 173,
      "outputs": [
        {
          "output_type": "stream",
          "name": "stdout",
          "text": [
            "[0 1 0 0 0 0 0 1 0 1 1 1 0 0 0 0 1 1 1 0 0 0 0 1 1 0 1 1 0 0 1 1 0 0 0 1 0\n",
            " 0 1 0 1 1 0 0 0 1 0 0 1 1 1 1 0 0 0 1 0 1 1 0 0 0 1 1 0 1 0 1 0 1 0 0 0 1\n",
            " 0 1 0 0 0 0 0 1 0 0 0 1 0 0 1 0 1 1 1 1 0 0 1 0 0 0 0 1 0 0 0 0 0 0 0 1 1\n",
            " 1 1 1 0 1 0 0 1 0 1 1 1 1 0 1 0 0 1 1 0 0 1 1 0 1 0 0 0 0 1 1 0]\n"
          ]
        }
      ]
    },
    {
      "cell_type": "code",
      "metadata": {
        "colab": {
          "base_uri": "https://localhost:8080/"
        },
        "id": "M3FumRSPzsd9",
        "outputId": "34186360-08d2-44cf-8833-b9b0d51b46f5"
      },
      "source": [
        "nn_prec, nn_rec, nn_acc, nn_f1 = get_all_metrics(neural_net_preds, test_labels)\n",
        "print(nn_prec, nn_rec, nn_acc, nn_f1)"
      ],
      "execution_count": 174,
      "outputs": [
        {
          "output_type": "stream",
          "name": "stdout",
          "text": [
            "0.7704918032786885 0.8392857142857143 0.8391608391608392 0.8034188034188035\n"
          ]
        }
      ]
    }
  ]
}