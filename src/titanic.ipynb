{
  "nbformat": 4,
  "nbformat_minor": 0,
  "metadata": {
    "colab": {
      "name": "titanic.ipynb",
      "provenance": [],
      "collapsed_sections": []
    },
    "kernelspec": {
      "name": "python3",
      "display_name": "Python 3"
    },
    "language_info": {
      "name": "python"
    }
  },
  "cells": [
    {
      "cell_type": "markdown",
      "metadata": {
        "id": "0JPUdh2gUtb8"
      },
      "source": [
        "# Imports"
      ]
    },
    {
      "cell_type": "code",
      "metadata": {
        "id": "fzeQs_RXTxDy"
      },
      "source": [
        "import pandas as pd\n",
        "from sklearn import tree\n",
        "from sklearn.ensemble import RandomForestClassifier\n",
        "from sklearn.neural_network import MLPClassifier"
      ],
      "execution_count": null,
      "outputs": []
    },
    {
      "cell_type": "markdown",
      "metadata": {
        "id": "Eds11B50Ur_U"
      },
      "source": [
        "# Import Data"
      ]
    },
    {
      "cell_type": "markdown",
      "metadata": {
        "id": "bg8huk9sqw-q"
      },
      "source": [
        "# Analysis Functions"
      ]
    },
    {
      "cell_type": "code",
      "metadata": {
        "id": "IvOOslWMr48y"
      },
      "source": [
        "def confusion_matrix(preds, truths):\n",
        "    tp = 0\n",
        "    fp = 0\n",
        "    fn = 0\n",
        "    tn = 0\n",
        "    for pred, truth in zip(preds, truths):\n",
        "        if truth == 1:\n",
        "            if pred == truth:\n",
        "                tp += 1\n",
        "            else:\n",
        "                fn += 1\n",
        "        else:\n",
        "            if pred == truth:\n",
        "                tn += 1\n",
        "            else:\n",
        "                fp += 1\n",
        "    return tp, fp, tn, fn"
      ],
      "execution_count": null,
      "outputs": []
    },
    {
      "cell_type": "code",
      "metadata": {
        "id": "dm3547WNshkt"
      },
      "source": [
        "def get_precision(tp, fp):\n",
        "    return tp / (tp + fp)\n",
        "\n",
        "def get_recall(tp, fn):\n",
        "    return tp / (tp + fn)\n",
        "\n",
        "def get_accuracy(tp, fn, fp, tn):\n",
        "    return (tp + tn) / (tp + fp + fn + tn)\n",
        "\n",
        "def get_f1(tp, fp, fn):\n",
        "    prec = get_precision(tp, fp)\n",
        "    rec = get_recall(tp, fn)\n",
        "    return 2 * prec * rec / (prec + rec)"
      ],
      "execution_count": null,
      "outputs": []
    },
    {
      "cell_type": "code",
      "metadata": {
        "id": "qnPWN8V3uyXy"
      },
      "source": [
        "def get_all_metrics(preds, truths):\n",
        "    tp, fp, tn, fn = confusion_matrix(preds, truths)\n",
        "\n",
        "    print(tp, fp, fn, tn)\n",
        "    prec = 0 # get_precision(tp, fp)\n",
        "    rec = 0 #get_recall(tp, fn)\n",
        "    acc = get_accuracy(tp, fn, fp, tn)\n",
        "    f1 = 0 #get_f1(tp, fp, fn)\n",
        "    return prec, rec, acc, f1"
      ],
      "execution_count": null,
      "outputs": []
    },
    {
      "cell_type": "code",
      "metadata": {
        "id": "UHPEVOtPZLoj"
      },
      "source": [
        "def prec_recall_score(preds, test_labels, probs):\n",
        "    prob_thresholds = [i / 100 for i in range(0, 96, 1)]\n",
        "    prec_list = []\n",
        "    rec_list = []\n",
        "    for threshold in prob_thresholds:\n",
        "        tp = 0\n",
        "        fp = 0\n",
        "        fn = 0\n",
        "        tn = 0\n",
        "        for pred, truth, prob in zip(preds, test_labels, probs):\n",
        "            prob = prob[1]\n",
        "\n",
        "            label = 0 if prob < threshold else 1\n",
        "            if label == truth:\n",
        "                if truth == 1:\n",
        "                    tp += 1\n",
        "            else:\n",
        "                if label == 1:\n",
        "                    fp += 1\n",
        "                else:\n",
        "                    fn += 1\n",
        "        prec = get_precision(tp, fp)\n",
        "        rec = get_recall(tp, fn)\n",
        "        prec_list.append(prec)\n",
        "        rec_list.append(rec)\n",
        "    return prec_list, rec_list"
      ],
      "execution_count": null,
      "outputs": []
    },
    {
      "cell_type": "code",
      "metadata": {
        "id": "v5qOn1U0aBP5",
        "colab": {
          "base_uri": "https://localhost:8080/",
          "height": 165
        },
        "outputId": "adb4f6e2-a28e-431a-b779-e1581751bfd7"
      },
      "source": [
        "prec_list, rec_list = prec_recall_score(rand_forest_preds, test_labels, rand_forest_probs)"
      ],
      "execution_count": null,
      "outputs": [
        {
          "output_type": "error",
          "ename": "NameError",
          "evalue": "ignored",
          "traceback": [
            "\u001b[0;31m---------------------------------------------------------------------------\u001b[0m",
            "\u001b[0;31mNameError\u001b[0m                                 Traceback (most recent call last)",
            "\u001b[0;32m<ipython-input-6-b24bfc7c88a9>\u001b[0m in \u001b[0;36m<module>\u001b[0;34m()\u001b[0m\n\u001b[0;32m----> 1\u001b[0;31m \u001b[0mprec_list\u001b[0m\u001b[0;34m,\u001b[0m \u001b[0mrec_list\u001b[0m \u001b[0;34m=\u001b[0m \u001b[0mprec_recall_score\u001b[0m\u001b[0;34m(\u001b[0m\u001b[0mrand_forest_preds\u001b[0m\u001b[0;34m,\u001b[0m \u001b[0mtest_labels\u001b[0m\u001b[0;34m,\u001b[0m \u001b[0mrand_forest_probs\u001b[0m\u001b[0;34m)\u001b[0m\u001b[0;34m\u001b[0m\u001b[0;34m\u001b[0m\u001b[0m\n\u001b[0m",
            "\u001b[0;31mNameError\u001b[0m: name 'rand_forest_preds' is not defined"
          ]
        }
      ]
    },
    {
      "cell_type": "code",
      "metadata": {
        "id": "YHjyaP99f4Yw"
      },
      "source": [
        "import matplotlib.pyplot as plt\n",
        "import numpy as np"
      ],
      "execution_count": null,
      "outputs": []
    },
    {
      "cell_type": "code",
      "metadata": {
        "colab": {
          "base_uri": "https://localhost:8080/",
          "height": 820
        },
        "id": "G_aWieRKf9qI",
        "outputId": "73889745-fb41-419b-8556-bef549da8acb"
      },
      "source": [
        "fig = plt.figure(figsize=(15, 10))\n",
        "\n",
        "ax = plt.axes()\n",
        "ax.set_facecolor('whitesmoke')\n",
        "\n",
        "# Set tick font size\n",
        "for label in (ax.get_xticklabels() + ax.get_yticklabels()):\n",
        "\tlabel.set_fontsize(16)\n",
        "\n",
        "# plt.plot(epochs_cnn, train_loss)\n",
        "print(rec_list)\n",
        "plt.plot(rec_list, prec_list)\n",
        "plt.title('Random Forest Precision vs Recall', fontsize=25)\n",
        "plt.xlabel('Recall', fontsize=20)\n",
        "plt.xticks(np.arange(0, 1.01, 0.1))\n",
        "plt.ylabel('Precision', fontsize=20)\n",
        "plt.legend()\n",
        "plt.show()"
      ],
      "execution_count": null,
      "outputs": [
        {
          "output_type": "error",
          "ename": "NameError",
          "evalue": "ignored",
          "traceback": [
            "\u001b[0;31m---------------------------------------------------------------------------\u001b[0m",
            "\u001b[0;31mNameError\u001b[0m                                 Traceback (most recent call last)",
            "\u001b[0;32m<ipython-input-8-1668a3d4b795>\u001b[0m in \u001b[0;36m<module>\u001b[0;34m()\u001b[0m\n\u001b[1;32m      9\u001b[0m \u001b[0;34m\u001b[0m\u001b[0m\n\u001b[1;32m     10\u001b[0m \u001b[0;31m# plt.plot(epochs_cnn, train_loss)\u001b[0m\u001b[0;34m\u001b[0m\u001b[0;34m\u001b[0m\u001b[0;34m\u001b[0m\u001b[0m\n\u001b[0;32m---> 11\u001b[0;31m \u001b[0mprint\u001b[0m\u001b[0;34m(\u001b[0m\u001b[0mrec_list\u001b[0m\u001b[0;34m)\u001b[0m\u001b[0;34m\u001b[0m\u001b[0;34m\u001b[0m\u001b[0m\n\u001b[0m\u001b[1;32m     12\u001b[0m \u001b[0mplt\u001b[0m\u001b[0;34m.\u001b[0m\u001b[0mplot\u001b[0m\u001b[0;34m(\u001b[0m\u001b[0mrec_list\u001b[0m\u001b[0;34m,\u001b[0m \u001b[0mprec_list\u001b[0m\u001b[0;34m)\u001b[0m\u001b[0;34m\u001b[0m\u001b[0;34m\u001b[0m\u001b[0m\n\u001b[1;32m     13\u001b[0m \u001b[0mplt\u001b[0m\u001b[0;34m.\u001b[0m\u001b[0mtitle\u001b[0m\u001b[0;34m(\u001b[0m\u001b[0;34m'Random Forest Precision vs Recall'\u001b[0m\u001b[0;34m,\u001b[0m \u001b[0mfontsize\u001b[0m\u001b[0;34m=\u001b[0m\u001b[0;36m25\u001b[0m\u001b[0;34m)\u001b[0m\u001b[0;34m\u001b[0m\u001b[0;34m\u001b[0m\u001b[0m\n",
            "\u001b[0;31mNameError\u001b[0m: name 'rec_list' is not defined"
          ]
        },
        {
          "output_type": "display_data",
          "data": {
            "image/png": "[encoded data removed]",
            "text/plain": [
              "<Figure size 1080x720 with 1 Axes>"
            ]
          },
          "metadata": {
            "needs_background": "light"
          }
        }
      ]
    },
    {
      "cell_type": "markdown",
      "metadata": {
        "id": "ZFubX57Cp5u4"
      },
      "source": [
        "## Prepare Training Data"
      ]
    },
    {
      "cell_type": "code",
      "metadata": {
        "id": "6gqkjCW5UKC8",
        "colab": {
          "base_uri": "https://localhost:8080/",
          "height": 450
        },
        "outputId": "a8765722-a747-4e8a-d07d-c69aeb38b8a7"
      },
      "source": [
        "train_df = pd.read_csv('b_train.csv')\n",
        "\n",
        "# Get Labels\n",
        "train_labels = train_df['Survived']\n",
        "\n",
        "# Drop survived and passenger ID\n",
        "train_df = train_df.drop(columns=['Survived', 'PassengerID'])"
      ],
      "execution_count": null,
      "outputs": [
        {
          "output_type": "error",
          "ename": "FileNotFoundError",
          "evalue": "ignored",
          "traceback": [
            "\u001b[0;31m---------------------------------------------------------------------------\u001b[0m",
            "\u001b[0;31mFileNotFoundError\u001b[0m                         Traceback (most recent call last)",
            "\u001b[0;32m<ipython-input-9-beec495e801b>\u001b[0m in \u001b[0;36m<module>\u001b[0;34m()\u001b[0m\n\u001b[0;32m----> 1\u001b[0;31m \u001b[0mtrain_df\u001b[0m \u001b[0;34m=\u001b[0m \u001b[0mpd\u001b[0m\u001b[0;34m.\u001b[0m\u001b[0mread_csv\u001b[0m\u001b[0;34m(\u001b[0m\u001b[0;34m'b_train.csv'\u001b[0m\u001b[0;34m)\u001b[0m\u001b[0;34m\u001b[0m\u001b[0;34m\u001b[0m\u001b[0m\n\u001b[0m\u001b[1;32m      2\u001b[0m \u001b[0;34m\u001b[0m\u001b[0m\n\u001b[1;32m      3\u001b[0m \u001b[0;31m# Get Labels\u001b[0m\u001b[0;34m\u001b[0m\u001b[0;34m\u001b[0m\u001b[0;34m\u001b[0m\u001b[0m\n\u001b[1;32m      4\u001b[0m \u001b[0mtrain_labels\u001b[0m \u001b[0;34m=\u001b[0m \u001b[0mtrain_df\u001b[0m\u001b[0;34m[\u001b[0m\u001b[0;34m'Survived'\u001b[0m\u001b[0;34m]\u001b[0m\u001b[0;34m\u001b[0m\u001b[0;34m\u001b[0m\u001b[0m\n\u001b[1;32m      5\u001b[0m \u001b[0;34m\u001b[0m\u001b[0m\n",
            "\u001b[0;32m/usr/local/lib/python3.7/dist-packages/pandas/io/parsers.py\u001b[0m in \u001b[0;36mread_csv\u001b[0;34m(filepath_or_buffer, sep, delimiter, header, names, index_col, usecols, squeeze, prefix, mangle_dupe_cols, dtype, engine, converters, true_values, false_values, skipinitialspace, skiprows, skipfooter, nrows, na_values, keep_default_na, na_filter, verbose, skip_blank_lines, parse_dates, infer_datetime_format, keep_date_col, date_parser, dayfirst, cache_dates, iterator, chunksize, compression, thousands, decimal, lineterminator, quotechar, quoting, doublequote, escapechar, comment, encoding, dialect, error_bad_lines, warn_bad_lines, delim_whitespace, low_memory, memory_map, float_precision)\u001b[0m\n\u001b[1;32m    686\u001b[0m     )\n\u001b[1;32m    687\u001b[0m \u001b[0;34m\u001b[0m\u001b[0m\n\u001b[0;32m--> 688\u001b[0;31m     \u001b[0;32mreturn\u001b[0m \u001b[0m_read\u001b[0m\u001b[0;34m(\u001b[0m\u001b[0mfilepath_or_buffer\u001b[0m\u001b[0;34m,\u001b[0m \u001b[0mkwds\u001b[0m\u001b[0;34m)\u001b[0m\u001b[0;34m\u001b[0m\u001b[0;34m\u001b[0m\u001b[0m\n\u001b[0m\u001b[1;32m    689\u001b[0m \u001b[0;34m\u001b[0m\u001b[0m\n\u001b[1;32m    690\u001b[0m \u001b[0;34m\u001b[0m\u001b[0m\n",
            "\u001b[0;32m/usr/local/lib/python3.7/dist-packages/pandas/io/parsers.py\u001b[0m in \u001b[0;36m_read\u001b[0;34m(filepath_or_buffer, kwds)\u001b[0m\n\u001b[1;32m    452\u001b[0m \u001b[0;34m\u001b[0m\u001b[0m\n\u001b[1;32m    453\u001b[0m     \u001b[0;31m# Create the parser.\u001b[0m\u001b[0;34m\u001b[0m\u001b[0;34m\u001b[0m\u001b[0;34m\u001b[0m\u001b[0m\n\u001b[0;32m--> 454\u001b[0;31m     \u001b[0mparser\u001b[0m \u001b[0;34m=\u001b[0m \u001b[0mTextFileReader\u001b[0m\u001b[0;34m(\u001b[0m\u001b[0mfp_or_buf\u001b[0m\u001b[0;34m,\u001b[0m \u001b[0;34m**\u001b[0m\u001b[0mkwds\u001b[0m\u001b[0;34m)\u001b[0m\u001b[0;34m\u001b[0m\u001b[0;34m\u001b[0m\u001b[0m\n\u001b[0m\u001b[1;32m    455\u001b[0m \u001b[0;34m\u001b[0m\u001b[0m\n\u001b[1;32m    456\u001b[0m     \u001b[0;32mif\u001b[0m \u001b[0mchunksize\u001b[0m \u001b[0;32mor\u001b[0m \u001b[0miterator\u001b[0m\u001b[0;34m:\u001b[0m\u001b[0;34m\u001b[0m\u001b[0;34m\u001b[0m\u001b[0m\n",
            "\u001b[0;32m/usr/local/lib/python3.7/dist-packages/pandas/io/parsers.py\u001b[0m in \u001b[0;36m__init__\u001b[0;34m(self, f, engine, **kwds)\u001b[0m\n\u001b[1;32m    946\u001b[0m             \u001b[0mself\u001b[0m\u001b[0;34m.\u001b[0m\u001b[0moptions\u001b[0m\u001b[0;34m[\u001b[0m\u001b[0;34m\"has_index_names\"\u001b[0m\u001b[0;34m]\u001b[0m \u001b[0;34m=\u001b[0m \u001b[0mkwds\u001b[0m\u001b[0;34m[\u001b[0m\u001b[0;34m\"has_index_names\"\u001b[0m\u001b[0;34m]\u001b[0m\u001b[0;34m\u001b[0m\u001b[0;34m\u001b[0m\u001b[0m\n\u001b[1;32m    947\u001b[0m \u001b[0;34m\u001b[0m\u001b[0m\n\u001b[0;32m--> 948\u001b[0;31m         \u001b[0mself\u001b[0m\u001b[0;34m.\u001b[0m\u001b[0m_make_engine\u001b[0m\u001b[0;34m(\u001b[0m\u001b[0mself\u001b[0m\u001b[0;34m.\u001b[0m\u001b[0mengine\u001b[0m\u001b[0;34m)\u001b[0m\u001b[0;34m\u001b[0m\u001b[0;34m\u001b[0m\u001b[0m\n\u001b[0m\u001b[1;32m    949\u001b[0m \u001b[0;34m\u001b[0m\u001b[0m\n\u001b[1;32m    950\u001b[0m     \u001b[0;32mdef\u001b[0m \u001b[0mclose\u001b[0m\u001b[0;34m(\u001b[0m\u001b[0mself\u001b[0m\u001b[0;34m)\u001b[0m\u001b[0;34m:\u001b[0m\u001b[0;34m\u001b[0m\u001b[0;34m\u001b[0m\u001b[0m\n",
            "\u001b[0;32m/usr/local/lib/python3.7/dist-packages/pandas/io/parsers.py\u001b[0m in \u001b[0;36m_make_engine\u001b[0;34m(self, engine)\u001b[0m\n\u001b[1;32m   1178\u001b[0m     \u001b[0;32mdef\u001b[0m \u001b[0m_make_engine\u001b[0m\u001b[0;34m(\u001b[0m\u001b[0mself\u001b[0m\u001b[0;34m,\u001b[0m \u001b[0mengine\u001b[0m\u001b[0;34m=\u001b[0m\u001b[0;34m\"c\"\u001b[0m\u001b[0;34m)\u001b[0m\u001b[0;34m:\u001b[0m\u001b[0;34m\u001b[0m\u001b[0;34m\u001b[0m\u001b[0m\n\u001b[1;32m   1179\u001b[0m         \u001b[0;32mif\u001b[0m \u001b[0mengine\u001b[0m \u001b[0;34m==\u001b[0m \u001b[0;34m\"c\"\u001b[0m\u001b[0;34m:\u001b[0m\u001b[0;34m\u001b[0m\u001b[0;34m\u001b[0m\u001b[0m\n\u001b[0;32m-> 1180\u001b[0;31m             \u001b[0mself\u001b[0m\u001b[0;34m.\u001b[0m\u001b[0m_engine\u001b[0m \u001b[0;34m=\u001b[0m \u001b[0mCParserWrapper\u001b[0m\u001b[0;34m(\u001b[0m\u001b[0mself\u001b[0m\u001b[0;34m.\u001b[0m\u001b[0mf\u001b[0m\u001b[0;34m,\u001b[0m \u001b[0;34m**\u001b[0m\u001b[0mself\u001b[0m\u001b[0;34m.\u001b[0m\u001b[0moptions\u001b[0m\u001b[0;34m)\u001b[0m\u001b[0;34m\u001b[0m\u001b[0;34m\u001b[0m\u001b[0m\n\u001b[0m\u001b[1;32m   1181\u001b[0m         \u001b[0;32melse\u001b[0m\u001b[0;34m:\u001b[0m\u001b[0;34m\u001b[0m\u001b[0;34m\u001b[0m\u001b[0m\n\u001b[1;32m   1182\u001b[0m             \u001b[0;32mif\u001b[0m \u001b[0mengine\u001b[0m \u001b[0;34m==\u001b[0m \u001b[0;34m\"python\"\u001b[0m\u001b[0;34m:\u001b[0m\u001b[0;34m\u001b[0m\u001b[0;34m\u001b[0m\u001b[0m\n",
            "\u001b[0;32m/usr/local/lib/python3.7/dist-packages/pandas/io/parsers.py\u001b[0m in \u001b[0;36m__init__\u001b[0;34m(self, src, **kwds)\u001b[0m\n\u001b[1;32m   2008\u001b[0m         \u001b[0mkwds\u001b[0m\u001b[0;34m[\u001b[0m\u001b[0;34m\"usecols\"\u001b[0m\u001b[0;34m]\u001b[0m \u001b[0;34m=\u001b[0m \u001b[0mself\u001b[0m\u001b[0;34m.\u001b[0m\u001b[0musecols\u001b[0m\u001b[0;34m\u001b[0m\u001b[0;34m\u001b[0m\u001b[0m\n\u001b[1;32m   2009\u001b[0m \u001b[0;34m\u001b[0m\u001b[0m\n\u001b[0;32m-> 2010\u001b[0;31m         \u001b[0mself\u001b[0m\u001b[0;34m.\u001b[0m\u001b[0m_reader\u001b[0m \u001b[0;34m=\u001b[0m \u001b[0mparsers\u001b[0m\u001b[0;34m.\u001b[0m\u001b[0mTextReader\u001b[0m\u001b[0;34m(\u001b[0m\u001b[0msrc\u001b[0m\u001b[0;34m,\u001b[0m \u001b[0;34m**\u001b[0m\u001b[0mkwds\u001b[0m\u001b[0;34m)\u001b[0m\u001b[0;34m\u001b[0m\u001b[0;34m\u001b[0m\u001b[0m\n\u001b[0m\u001b[1;32m   2011\u001b[0m         \u001b[0mself\u001b[0m\u001b[0;34m.\u001b[0m\u001b[0munnamed_cols\u001b[0m \u001b[0;34m=\u001b[0m \u001b[0mself\u001b[0m\u001b[0;34m.\u001b[0m\u001b[0m_reader\u001b[0m\u001b[0;34m.\u001b[0m\u001b[0munnamed_cols\u001b[0m\u001b[0;34m\u001b[0m\u001b[0;34m\u001b[0m\u001b[0m\n\u001b[1;32m   2012\u001b[0m \u001b[0;34m\u001b[0m\u001b[0m\n",
            "\u001b[0;32mpandas/_libs/parsers.pyx\u001b[0m in \u001b[0;36mpandas._libs.parsers.TextReader.__cinit__\u001b[0;34m()\u001b[0m\n",
            "\u001b[0;32mpandas/_libs/parsers.pyx\u001b[0m in \u001b[0;36mpandas._libs.parsers.TextReader._setup_parser_source\u001b[0;34m()\u001b[0m\n",
            "\u001b[0;31mFileNotFoundError\u001b[0m: [Errno 2] No such file or directory: 'b_train.csv'"
          ]
        }
      ]
    },
    {
      "cell_type": "code",
      "metadata": {
        "colab": {
          "base_uri": "https://localhost:8080/"
        },
        "id": "vVQCXnioAaay",
        "outputId": "8187e7d1-d010-4fa0-cf07-0fa9f46802d1"
      },
      "source": [
        "print(train_df)"
      ],
      "execution_count": null,
      "outputs": [
        {
          "output_type": "stream",
          "name": "stdout",
          "text": [
            "     Pclass  Sex   Age  SibSp  Parch      Fare\n",
            "0         1    0   4.0      0      2   81.8583\n",
            "1         1    1  36.0      1      2  120.0000\n",
            "2         3    1  15.0      0      0    8.0292\n",
            "3         1    1  30.0      0      0   86.5000\n",
            "4         2    0  51.0      0      0   12.5250\n",
            "..      ...  ...   ...    ...    ...       ...\n",
            "566       3    0  34.0      0      0    6.4958\n",
            "567       3    0  18.0      1      0    6.4958\n",
            "568       2    0   2.0      1      1   26.0000\n",
            "569       3    0  20.0      0      0    9.2250\n",
            "570       2    1  24.0      0      2   14.5000\n",
            "\n",
            "[571 rows x 6 columns]\n"
          ]
        }
      ]
    },
    {
      "cell_type": "markdown",
      "metadata": {
        "id": "dz0F6iSYqO7D"
      },
      "source": [
        "## Prepare Testing Data"
      ]
    },
    {
      "cell_type": "code",
      "metadata": {
        "id": "VzpjqpBlqSgW"
      },
      "source": [
        "test_df = pd.read_csv('b_test.csv')\n",
        "\n",
        "# Get Labels\n",
        "test_labels = test_df['Survived']\n",
        "\n",
        "# Drop survived and passenger ID\n",
        "test_df = test_df.drop(columns=['Survived', 'PassengerID'])"
      ],
      "execution_count": null,
      "outputs": []
    },
    {
      "cell_type": "markdown",
      "metadata": {
        "id": "BDU2mA7WUlo3"
      },
      "source": [
        "# Decision Tree"
      ]
    },
    {
      "cell_type": "markdown",
      "metadata": {
        "id": "5IYka_gcqCWz"
      },
      "source": [
        "## Train"
      ]
    },
    {
      "cell_type": "code",
      "metadata": {
        "id": "TBaDgcNbVvTe"
      },
      "source": [
        "# Create and train decision tree\n",
        "decision_tree = tree.DecisionTreeClassifier(max_depth=5)\n",
        "decision_tree = decision_tree.fit(train_df, train_labels)"
      ],
      "execution_count": null,
      "outputs": []
    },
    {
      "cell_type": "markdown",
      "metadata": {
        "id": "fq7GHhgZqDhc"
      },
      "source": [
        "## Test"
      ]
    },
    {
      "cell_type": "code",
      "metadata": {
        "id": "lsNfGRVzZAgm"
      },
      "source": [
        "decision_tree_preds = decision_tree.predict(test_df)"
      ],
      "execution_count": null,
      "outputs": []
    },
    {
      "cell_type": "code",
      "metadata": {
        "colab": {
          "base_uri": "https://localhost:8080/"
        },
        "id": "4FDPJ6PbvG67",
        "outputId": "0fed5225-31a7-412e-a834-89d95a1ce985"
      },
      "source": [
        "dec_prec, dec_rec, dec_acc, dec_f1 = get_all_metrics(decision_tree_preds, test_labels)\n",
        "print(dec_prec, dec_rec, dec_acc, dec_f1)"
      ],
      "execution_count": null,
      "outputs": [
        {
          "output_type": "stream",
          "name": "stdout",
          "text": [
            "0.78 0.7358490566037735 0.8251748251748252 0.7572815533980584\n"
          ]
        }
      ]
    },
    {
      "cell_type": "code",
      "metadata": {
        "colab": {
          "base_uri": "https://localhost:8080/",
          "height": 266
        },
        "id": "4vhYdvaK_0aQ",
        "outputId": "93f2baf4-720f-4891-8119-aa99a8fe5100"
      },
      "source": [
        "tree.plot_tree(decision_tree)\n",
        "import graphviz \n",
        "dot_data = tree.export_graphviz(decision_tree, out_file=None) \n",
        "graph = graphviz.Source(dot_data) \n",
        "graph.render(\"iris\")"
      ],
      "execution_count": null,
      "outputs": [
        {
          "output_type": "execute_result",
          "data": {
            "application/vnd.google.colaboratory.intrinsic+json": {
              "type": "string"
            },
            "text/plain": [
              "'iris.pdf'"
            ]
          },
          "metadata": {},
          "execution_count": 108
        },
        {
          "output_type": "display_data",
          "data": {
            "image/png": "[encoded data removed]",
            "text/plain": [
              "<Figure size 432x288 with 1 Axes>"
            ]
          },
          "metadata": {
            "needs_background": "light"
          }
        }
      ]
    },
    {
      "cell_type": "markdown",
      "metadata": {
        "id": "TH2S1RBfUpiA"
      },
      "source": [
        "# Random Forest"
      ]
    },
    {
      "cell_type": "markdown",
      "metadata": {
        "id": "RWaF6skov1VD"
      },
      "source": [
        "## Train"
      ]
    },
    {
      "cell_type": "code",
      "metadata": {
        "colab": {
          "base_uri": "https://localhost:8080/"
        },
        "id": "PNzVjns2vuL3",
        "outputId": "bf7c305b-1ac9-4feb-c93e-2253d25ef6fe"
      },
      "source": [
        "rand_forest = RandomForestClassifier(max_depth=5, random_state=0)\n",
        "rand_forest.fit(train_df, train_labels)"
      ],
      "execution_count": null,
      "outputs": [
        {
          "output_type": "execute_result",
          "data": {
            "text/plain": [
              "RandomForestClassifier(max_depth=5, random_state=0)"
            ]
          },
          "metadata": {},
          "execution_count": 125
        }
      ]
    },
    {
      "cell_type": "markdown",
      "metadata": {
        "id": "hMdleQNyv2nC"
      },
      "source": [
        "## Test"
      ]
    },
    {
      "cell_type": "code",
      "metadata": {
        "id": "OElIldPWv32Q"
      },
      "source": [
        "rand_forest_preds = rand_forest.predict(test_df)\n",
        "rand_forest_probs = rand_forest.predict_proba(test_df)\n",
        "print(rand_forest_probs)"
      ],
      "execution_count": null,
      "outputs": []
    },
    {
      "cell_type": "code",
      "metadata": {
        "colab": {
          "base_uri": "https://localhost:8080/"
        },
        "id": "ufVjN-LqysmE",
        "outputId": "b16928c9-2928-424f-fbad-a94450a1d733"
      },
      "source": [
        "rf_prec, rf_rec, rf_acc, rf_f1 = get_all_metrics(rand_forest_preds, test_labels)\n",
        "print(rf_prec, rf_rec, rf_acc, rf_f1)"
      ],
      "execution_count": null,
      "outputs": [
        {
          "output_type": "stream",
          "name": "stdout",
          "text": [
            "0.8888888888888888 0.7692307692307693 0.8811188811188811 0.8247422680412372\n"
          ]
        }
      ]
    },
    {
      "cell_type": "markdown",
      "metadata": {
        "id": "4eLjssJdzRnh"
      },
      "source": [
        "# Neural Network"
      ]
    },
    {
      "cell_type": "markdown",
      "metadata": {
        "id": "K5V_GFTMzUvq"
      },
      "source": [
        "## Train"
      ]
    },
    {
      "cell_type": "code",
      "metadata": {
        "colab": {
          "base_uri": "https://localhost:8080/"
        },
        "id": "_0tNFw3TzTkX",
        "outputId": "7123d9f9-9f5b-496f-ae68-53451e2283f7"
      },
      "source": [
        "neural_net = MLPClassifier(random_state=1, max_iter=500)\n",
        "neural_net.fit(train_df, train_labels)"
      ],
      "execution_count": null,
      "outputs": [
        {
          "output_type": "execute_result",
          "data": {
            "text/plain": [
              "MLPClassifier(max_iter=500, random_state=1)"
            ]
          },
          "metadata": {},
          "execution_count": 148
        }
      ]
    },
    {
      "cell_type": "markdown",
      "metadata": {
        "id": "tWQR-9e-zVzk"
      },
      "source": [
        "## Test"
      ]
    },
    {
      "cell_type": "code",
      "metadata": {
        "id": "rq28ILIvzm0t"
      },
      "source": [
        "neural_net_preds = neural_net.predict(test_df)\n",
        "neural_net_probs = neural_net.predict_proba(test_df)\n",
        "print(neural_net_probs)"
      ],
      "execution_count": null,
      "outputs": []
    },
    {
      "cell_type": "code",
      "metadata": {
        "colab": {
          "base_uri": "https://localhost:8080/"
        },
        "id": "M3FumRSPzsd9",
        "outputId": "34186360-08d2-44cf-8833-b9b0d51b46f5"
      },
      "source": [
        "nn_prec, nn_rec, nn_acc, nn_f1 = get_all_metrics(neural_net_preds, test_labels)\n",
        "print(nn_prec, nn_rec, nn_acc, nn_f1)"
      ],
      "execution_count": null,
      "outputs": [
        {
          "output_type": "stream",
          "name": "stdout",
          "text": [
            "0.7704918032786885 0.8392857142857143 0.8391608391608392 0.8034188034188035\n"
          ]
        }
      ]
    },
    {
      "cell_type": "markdown",
      "metadata": {
        "id": "JQ08w4OdIoKC"
      },
      "source": [
        ""
      ]
    },
    {
      "cell_type": "markdown",
      "metadata": {
        "id": "miA5y-AOIoVZ"
      },
      "source": [
        "# Loop"
      ]
    },
    {
      "cell_type": "code",
      "metadata": {
        "id": "v1VH7iBltJ_r"
      },
      "source": [
        "from sklearn.naive_bayes import GaussianNB"
      ],
      "execution_count": null,
      "outputs": []
    },
    {
      "cell_type": "code",
      "metadata": {
        "id": "oIKSc43GIpRH"
      },
      "source": [
        "holdouts = [['a_train.csv', 'a_test.csv'], ['b_train.csv', 'b_test.csv'], ['c_train.csv', 'c_test.csv'], ['d_train.csv', 'd_test.csv'], ['e_train.csv', 'e_test.csv']]\n",
        "# holdouts = [['a_train.csv', 'a_test.csv'], ['b_train.csv', 'b_test.csv'], ['d_train.csv', 'd_test.csv']]"
      ],
      "execution_count": null,
      "outputs": []
    },
    {
      "cell_type": "code",
      "metadata": {
        "id": "TddRtUS5igyt"
      },
      "source": [
        "import statistics\n",
        "import random"
      ],
      "execution_count": null,
      "outputs": []
    },
    {
      "cell_type": "code",
      "metadata": {
        "id": "ipFT39wEvchO"
      },
      "source": [
        "\n",
        "def randPreds(test_df):\n",
        "    return_list = []\n",
        "    print('test: ', len(test_df))\n",
        "    for line in range(0, len(test_df)):\n",
        "        k = randint(0, 1)\n",
        "        return_list.append(0)\n",
        "    print('return: ', len(return_list))\n",
        "    return return_list"
      ],
      "execution_count": null,
      "outputs": []
    },
    {
      "cell_type": "code",
      "metadata": {
        "colab": {
          "base_uri": "https://localhost:8080/"
        },
        "id": "Gr2T0DwHI7Ma",
        "outputId": "b7c6de41-2c17-4f76-caa0-77d4c4239c9f"
      },
      "source": [
        "prec_list, rec_list, acc_list, f1_list = [], [], [], []\n",
        "for holdout in holdouts:\n",
        "    train_curr, test_curr = holdout\n",
        "    train_df, test_df, train_labels, test_labels = formatTrainTest(train_curr, test_curr)\n",
        "    # print(train_df.values)\n",
        "\n",
        "    # neural_net = MLPClassifier(random_state=1, hidden_layer_sizes=(100, 100), max_iter=500, solver='adam', early_stopping=True, n_iter_no_change=1000).fit(train_df.values, train_labels.values)\n",
        "    # neural_net = MLPClassifier(random_state=1, hidden_layer_sizes=(100, 100), max_iter=300, solver='adam').fit(train_df, train_labels)\n",
        "    # neural_net.fit(train_df, train_labels)\n",
        "\n",
        "    # decision_tree = tree.DecisionTreeClassifier(max_depth=5)\n",
        "    # decision_tree = decision_tree.fit(train_df, train_labels)\n",
        "    # clf = GaussianNB().fit(train_df, train_labels)\n",
        "    clf_preds = randPreds(test_df)\n",
        "    # rand_forest = RandomForestClassifier(max_depth=5, random_state=0)\n",
        "    # rand_forest.fit(train_df, train_labels)\n",
        "\n",
        "    # rand_forest_preds = rand_forest.predict(test_df)\n",
        "    # rand_forest_probs = rand_forest.predict_proba(test_df)\n",
        "\n",
        "    # neural_net_preds = neural_net.predict(test_df)\n",
        "    # dec_preds = decision_tree.predict(test_df)\n",
        "    nn_prec, nn_rec, nn_acc, nn_f1 = get_all_metrics(clf_preds, test_labels)\n",
        "    prec_list.append(nn_prec)\n",
        "    rec_list.append(nn_rec)\n",
        "    acc_list.append(nn_acc)\n",
        "    f1_list.append(nn_f1)\n",
        "    # # avg_acc += nn_acc\n",
        "    # print(nn_prec, nn_rec, nn_acc, nn_f1)\n",
        "\n",
        "prec_mean = statistics.mean(prec_list)\n",
        "rec_mean = statistics.mean(rec_list)\n",
        "acc_mean = statistics.mean(acc_list)\n",
        "f1_mean = statistics.mean(f1_list)\n",
        "\n",
        "prec_stdev = statistics.pstdev(prec_list)\n",
        "rec_stdev = statistics.pstdev(rec_list)\n",
        "acc_stdev = statistics.pstdev(acc_list)\n",
        "f1_stdev = statistics.pstdev(f1_list)\n",
        "\n",
        "print(prec_mean, prec_stdev)\n",
        "print(rec_mean, rec_stdev)\n",
        "print(acc_mean, acc_stdev)\n",
        "print(f1_mean, f1_stdev)"
      ],
      "execution_count": null,
      "outputs": [
        {
          "output_type": "stream",
          "name": "stdout",
          "text": [
            "test:  143\n",
            "return:  143\n",
            "0 0 53 90\n",
            "test:  143\n",
            "return:  143\n",
            "0 0 52 91\n",
            "test:  143\n",
            "return:  143\n",
            "0 0 58 85\n",
            "test:  143\n",
            "return:  143\n",
            "0 0 64 79\n",
            "test:  142\n",
            "return:  142\n",
            "0 0 63 79\n",
            "0 0.0\n",
            "0 0.0\n",
            "0.5937850881512853 0.035187278096294926\n",
            "0 0.0\n"
          ]
        }
      ]
    },
    {
      "cell_type": "code",
      "metadata": {
        "id": "uN-H3lPIJQke"
      },
      "source": [
        "def formatTrainTest(train_curr, test_curr):\n",
        "    train_df = pd.read_csv(train_curr)\n",
        "    test_df = pd.read_csv(test_curr)\n",
        "\n",
        "    # Get Labels\n",
        "    train_labels = train_df['Survived']\n",
        "\n",
        "    # Drop survived and passenger ID\n",
        "    train_df = train_df.drop(columns=['Survived', 'PassengerID'])\n",
        "\n",
        "    # Get Labels\n",
        "    test_labels = test_df['Survived']\n",
        "\n",
        "    # Drop survived and passenger ID\n",
        "    test_df = test_df.drop(columns=['Survived', 'PassengerID'])\n",
        "\n",
        "    return train_df, test_df, train_labels, test_labels"
      ],
      "execution_count": null,
      "outputs": []
    }
  ]
}